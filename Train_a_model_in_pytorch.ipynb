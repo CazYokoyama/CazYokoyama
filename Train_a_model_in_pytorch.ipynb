{
  "nbformat": 4,
  "nbformat_minor": 0,
  "metadata": {
    "colab": {
      "name": "Train a model in pytorch.ipynb",
      "provenance": [],
      "authorship_tag": "ABX9TyMP1BFeoRoVwjK98QzVVoVR",
      "include_colab_link": true
    },
    "kernelspec": {
      "name": "python3",
      "display_name": "Python 3"
    },
    "language_info": {
      "name": "python"
    }
  },
  "cells": [
    {
      "cell_type": "markdown",
      "metadata": {
        "id": "view-in-github",
        "colab_type": "text"
      },
      "source": [
        "<a href=\"https://colab.research.google.com/github/CazYokoyama/CazYokoyama/blob/main/Train_a_model_in_pytorch.ipynb\" target=\"_parent\"><img src=\"https://colab.research.google.com/assets/colab-badge.svg\" alt=\"Open In Colab\"/></a>"
      ]
    },
    {
      "cell_type": "code",
      "metadata": {
        "id": "8VJx48eo8lEc"
      },
      "source": [
        "import torch\n",
        "import torch.nn as nn"
      ],
      "execution_count": 3,
      "outputs": []
    },
    {
      "cell_type": "code",
      "metadata": {
        "id": "k7L3rT339e-X"
      },
      "source": [
        "# define a model in pytorch\n",
        "\n",
        "# Method-1\n",
        "model = nn.Sequential(\n",
        "    nn.Linear(28*28, 256),\n",
        "    nn.ReLU(),\n",
        "    nn.Linear(256, 64),\n",
        "    nn.ReLU(),\n",
        "    nn.Linear(64, 10)\n",
        ")"
      ],
      "execution_count": 5,
      "outputs": []
    },
    {
      "cell_type": "code",
      "metadata": {
        "id": "QqRTZ9Sb-fZr"
      },
      "source": [
        "class MYModel(nn.Module):\n",
        "  def __init__(self):\n",
        "    super().__init__()\n",
        "    self.l1 = nn.Linear(28*28,256)\n",
        "    self.l2 = nn.Linear(256, 64)\n",
        "    self.l3 = nn.Linear(64,10)\n",
        "    self.do = nn.Dropout(0.1)\n",
        "\n",
        "  def forward(self,x):\n",
        "    k1 = nn.functional.ReLU(self.l1(x))\n",
        "    k2 = nn.functional.ReLU(self.l2(k1))\n",
        "    do = self.do(k2+k1)\n",
        "    y_hat = self.l3(do)\n",
        "    return y_hat\n",
        "\n",
        "model1 = MYModel()\n"
      ],
      "execution_count": 14,
      "outputs": []
    },
    {
      "cell_type": "code",
      "metadata": {
        "id": "njMnxoB9A6qd"
      },
      "source": [
        "# Loss Function\n",
        "loss = nn.CrossEntropyLoss()\n",
        "\n",
        "# optimizer\n",
        "from torch import optim\n",
        "\n",
        "params = model.parameters()\n",
        "optimizer = optim.SGD(params,lr = 1e-1)\n",
        "\n",
        "from torchvision import datasets, transforms\n",
        "from torch.utils.data import random_split, DataLoader\n",
        "\n",
        "train_data = datasets.MNIST('data',train=True, download=True, transform = transforms.ToTensor())\n",
        "\n",
        "train, val = random_split(train_data, [55000,5000])\n",
        "\n",
        "train_loader = DataLoader(train, batch_size = 32)\n",
        "val_loader = DataLoader(val, batch_size = 32)"
      ],
      "execution_count": 24,
      "outputs": []
    },
    {
      "cell_type": "code",
      "metadata": {
        "colab": {
          "base_uri": "https://localhost:8080/"
        },
        "id": "HvRdluEND7_c",
        "outputId": "2efaa477-5cea-4a1a-e43a-cbd47bdb3200"
      },
      "source": [
        "# Training Loop\n",
        "\n",
        "nb_epochs = 20\n",
        "for epoch in range(nb_epochs):\n",
        "  losses = list()\n",
        "  for batch in train_loader:\n",
        "    x, y = batch\n",
        "    # x --> Batch-size x Channel x H x W\n",
        "    b = x.size(0)\n",
        "    x = x.view(b, -1)\n",
        "\n",
        "    # forward\n",
        "    y_hat = model(x)\n",
        "\n",
        "    # compute the objective fucntion\n",
        "    J = loss(y_hat, y)\n",
        "\n",
        "    # caleaning the gradient\n",
        "    model.zero_grad()\n",
        "\n",
        "    # Accumulating partial derivative\n",
        "    J.backward()\n",
        "\n",
        "    optimizer.step()\n",
        "    losses.append(J.item)\n",
        "\n",
        "  print(f'Epoch: {epoch+1}, train loss: {torch.tensor(J).mean():.2f})')\n",
        "\n"
      ],
      "execution_count": 27,
      "outputs": [
        {
          "output_type": "stream",
          "text": [
            "/usr/local/lib/python3.7/dist-packages/ipykernel_launcher.py:27: UserWarning: To copy construct from a tensor, it is recommended to use sourceTensor.clone().detach() or sourceTensor.clone().detach().requires_grad_(True), rather than torch.tensor(sourceTensor).\n"
          ],
          "name": "stderr"
        },
        {
          "output_type": "stream",
          "text": [
            "Epoch: 1, train loss: 0.03)\n",
            "Epoch: 2, train loss: 0.02)\n",
            "Epoch: 3, train loss: 0.01)\n",
            "Epoch: 4, train loss: 0.00)\n",
            "Epoch: 5, train loss: 0.00)\n",
            "Epoch: 6, train loss: 0.00)\n",
            "Epoch: 7, train loss: 0.00)\n",
            "Epoch: 8, train loss: 0.00)\n",
            "Epoch: 9, train loss: 0.00)\n",
            "Epoch: 10, train loss: 0.00)\n",
            "Epoch: 11, train loss: 0.00)\n",
            "Epoch: 12, train loss: 0.00)\n",
            "Epoch: 13, train loss: 0.00)\n",
            "Epoch: 14, train loss: 0.00)\n",
            "Epoch: 15, train loss: 0.00)\n",
            "Epoch: 16, train loss: 0.00)\n",
            "Epoch: 17, train loss: 0.00)\n",
            "Epoch: 18, train loss: 0.00)\n",
            "Epoch: 19, train loss: 0.00)\n",
            "Epoch: 20, train loss: 0.00)\n"
          ],
          "name": "stdout"
        }
      ]
    }
  ]
}